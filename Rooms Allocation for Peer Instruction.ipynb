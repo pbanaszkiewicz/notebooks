{
 "metadata": {
  "name": "",
  "signature": "sha256:38c240ae63440c4ec6c58f8f6cbcd9f24321e49e053fcedb74acbc4b87963e3f"
 },
 "nbformat": 3,
 "nbformat_minor": 0,
 "worksheets": [
  {
   "cells": [
    {
     "cell_type": "code",
     "collapsed": false,
     "input": [
      "%matplotlib inline\n",
      "import seaborn as sns\n",
      "import matplotlib.pyplot as plt"
     ],
     "language": "python",
     "metadata": {},
     "outputs": [],
     "prompt_number": 7
    },
    {
     "cell_type": "heading",
     "level": 1,
     "metadata": {},
     "source": [
      "Algorithm"
     ]
    },
    {
     "cell_type": "markdown",
     "metadata": {},
     "source": [
      "I want to, if it's possible, split students into pairs or groups of three.  The boundary is the maximum number of rooms $N$ (ie. pairs or trios) created.\n",
      "If it's not possible to allocate enough rooms for students split into trios, I want to create exactly $N-1$ rooms and allocate students equally."
     ]
    },
    {
     "cell_type": "heading",
     "level": 2,
     "metadata": {},
     "source": [
      "Visualization"
     ]
    },
    {
     "cell_type": "code",
     "collapsed": false,
     "input": [
      "import math\n",
      "\n",
      "def new_rooms(x, N_max=15):\n",
      "    if math.ceil(x / 2.) < N_max:\n",
      "        rooms = math.ceil(x / 2.)\n",
      "    elif math.ceil(x / 3.) < N_max:\n",
      "        rooms = math.ceil(x / 3.)\n",
      "    else:\n",
      "        rooms = N_max - 1\n",
      "    return rooms"
     ],
     "language": "python",
     "metadata": {},
     "outputs": [],
     "prompt_number": 8
    },
    {
     "cell_type": "code",
     "collapsed": false,
     "input": [
      "X = range(0, 46)\n",
      "Y = [new_rooms(x) for x in X]\n",
      "plt.plot(X, Y)\n",
      "plt.ylim(-1, 15)\n",
      "plt.xlabel(\"Number of students\")\n",
      "plt.ylabel(\"Number of rooms\")"
     ],
     "language": "python",
     "metadata": {},
     "outputs": [
      {
       "metadata": {},
       "output_type": "pyout",
       "prompt_number": 10,
       "text": [
        "<matplotlib.text.Text at 0x7f07f6b4bb50>"
       ]
      },
      {
       "metadata": {},
       "output_type": "display_data",
       "png": "[encoded data removed]",
       "text": [
        "<matplotlib.figure.Figure at 0x7f07f6b9f490>"
       ]
      }
     ],
     "prompt_number": 10
    },
    {
     "cell_type": "markdown",
     "metadata": {},
     "source": [
      "As you can see, we never break the limit of 14 ($N - 1$) rooms.  Hopefully classes won't be bigger than 20 students, because the more rooms there is, the worse performance will get."
     ]
    }
   ],
   "metadata": {}
  }
 ]
}